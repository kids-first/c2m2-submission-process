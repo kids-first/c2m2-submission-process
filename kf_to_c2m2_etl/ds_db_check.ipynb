{
 "cells": [
  {
   "cell_type": "code",
   "execution_count": 1,
   "metadata": {},
   "outputs": [],
   "source": [
    "import os\n",
    "\n",
    "from sqlalchemy import create_engine\n",
    "import pandas as pd\n",
    "from dotenv import load_dotenv, find_dotenv\n",
    "\n",
    "DOTENV_PATH = find_dotenv()\n",
    "if DOTENV_PATH:\n",
    "    load_dotenv(DOTENV_PATH)\n",
    "\n",
    "os.environ\n",
    "dataservice_db_url = os.getenv(\"KF_DATASERVICE_DB_URL\")\n",
    "db_user = os.getenv(\"DB_USER\")\n",
    "db_pass = os.getenv(\"DB_GATE\")\n",
    "\n",
    "url = dataservice_db_url.format(DB_USER=db_user,\n",
    "                                DB_GATE=db_pass)\n",
    "\n",
    "engine = create_engine(url)"
   ]
  },
  {
   "cell_type": "code",
   "execution_count": 2,
   "metadata": {},
   "outputs": [
    {
     "data": {
      "text/plain": [
       "\"'SD_0TYVY1TW','SD_1P41Z782','SD_46RR9ZR6','SD_46SK55A3','SD_6FPYJQBR','SD_7NQ9151J','SD_8Y99QZJJ','SD_9PYZAHHE','SD_AQ9KVN5P','SD_B8X3C1MX','SD_BHJXBDQK','SD_DK0KRWK8','SD_DYPMEHHF','SD_DZ4GPQX6','SD_DZTB5HRR','SD_FFVQ3T38','SD_JWS3V24D','SD_NMVV8A1Y','SD_P445ACHV','SD_PET7Q6F2','SD_PREASA7S','SD_R0EPRSGS','SD_RM8AFW0R','SD_VTTSHWV4','SD_W0V965XZ','SD_YGVA0E1C','SD_YNSSAPHE','SD_Z6MWD3H0','SD_ZFGDG5YS','SD_ZXJFFMEF','SD_Z0D9N23X','SD_2CEKQ05V','SD_54G4WG4R','SD_JK4Z4T6V','SD_W6FWTD8A'\""
      ]
     },
     "execution_count": 2,
     "metadata": {},
     "output_type": "execute_result"
    }
   ],
   "source": [
    "portal_studies_df = pd.read_table(\"studies_on_portal.tsv\")\n",
    "study_list = portal_studies_df['studies_on_portal'].to_list()\n",
    "study_list_str = ','.join([f\"'{item}'\" for item in study_list])\n",
    "study_list_str"
   ]
  },
  {
   "cell_type": "code",
   "execution_count": 3,
   "metadata": {},
   "outputs": [
    {
     "data": {
      "text/html": [
       "<div>\n",
       "<style scoped>\n",
       "    .dataframe tbody tr th:only-of-type {\n",
       "        vertical-align: middle;\n",
       "    }\n",
       "\n",
       "    .dataframe tbody tr th {\n",
       "        vertical-align: top;\n",
       "    }\n",
       "\n",
       "    .dataframe thead th {\n",
       "        text-align: right;\n",
       "    }\n",
       "</style>\n",
       "<table border=\"1\" class=\"dataframe\">\n",
       "  <thead>\n",
       "    <tr style=\"text-align: right;\">\n",
       "      <th></th>\n",
       "      <th>count</th>\n",
       "    </tr>\n",
       "  </thead>\n",
       "  <tbody>\n",
       "    <tr>\n",
       "      <th>0</th>\n",
       "      <td>29809</td>\n",
       "    </tr>\n",
       "  </tbody>\n",
       "</table>\n",
       "</div>"
      ],
      "text/plain": [
       "   count\n",
       "0  29809"
      ]
     },
     "execution_count": 3,
     "metadata": {},
     "output_type": "execute_result"
    }
   ],
   "source": [
    "query = f\"\"\"\n",
    "select count(*)\n",
    "from study s\n",
    "join participant p on p.study_id = s.kf_id\n",
    "where s.kf_id  in\n",
    "({study_list_str})\n",
    "and \n",
    "p.visible = true\n",
    "\"\"\"\n",
    "\n",
    "part_count_df = pd.read_sql(query,engine)\n",
    "\n",
    "part_count_df"
   ]
  },
  {
   "cell_type": "code",
   "execution_count": 4,
   "metadata": {},
   "outputs": [
    {
     "data": {
      "text/html": [
       "<div>\n",
       "<style scoped>\n",
       "    .dataframe tbody tr th:only-of-type {\n",
       "        vertical-align: middle;\n",
       "    }\n",
       "\n",
       "    .dataframe tbody tr th {\n",
       "        vertical-align: top;\n",
       "    }\n",
       "\n",
       "    .dataframe thead th {\n",
       "        text-align: right;\n",
       "    }\n",
       "</style>\n",
       "<table border=\"1\" class=\"dataframe\">\n",
       "  <thead>\n",
       "    <tr style=\"text-align: right;\">\n",
       "      <th></th>\n",
       "      <th>count</th>\n",
       "    </tr>\n",
       "  </thead>\n",
       "  <tbody>\n",
       "    <tr>\n",
       "      <th>0</th>\n",
       "      <td>40706</td>\n",
       "    </tr>\n",
       "  </tbody>\n",
       "</table>\n",
       "</div>"
      ],
      "text/plain": [
       "   count\n",
       "0  40706"
      ]
     },
     "execution_count": 4,
     "metadata": {},
     "output_type": "execute_result"
    }
   ],
   "source": [
    "query = f\"\"\"\n",
    "select count(*)\n",
    "from study s\n",
    "join participant p on p.study_id = s.kf_id\n",
    "join biospecimen b on b.participant_id  = p.kf_id \n",
    "where s.kf_id  in\n",
    "({study_list_str})\n",
    "and \n",
    "p.visible = true\n",
    "and\n",
    "b.visible = true\n",
    "\"\"\"\n",
    "\n",
    "biospecimen_count_df = pd.read_sql(query,engine)\n",
    "\n",
    "biospecimen_count_df"
   ]
  },
  {
   "cell_type": "code",
   "execution_count": 5,
   "metadata": {},
   "outputs": [
    {
     "data": {
      "text/html": [
       "<div>\n",
       "<style scoped>\n",
       "    .dataframe tbody tr th:only-of-type {\n",
       "        vertical-align: middle;\n",
       "    }\n",
       "\n",
       "    .dataframe tbody tr th {\n",
       "        vertical-align: top;\n",
       "    }\n",
       "\n",
       "    .dataframe thead th {\n",
       "        text-align: right;\n",
       "    }\n",
       "</style>\n",
       "<table border=\"1\" class=\"dataframe\">\n",
       "  <thead>\n",
       "    <tr style=\"text-align: right;\">\n",
       "      <th></th>\n",
       "      <th>count</th>\n",
       "    </tr>\n",
       "  </thead>\n",
       "  <tbody>\n",
       "    <tr>\n",
       "      <th>0</th>\n",
       "      <td>369794</td>\n",
       "    </tr>\n",
       "  </tbody>\n",
       "</table>\n",
       "</div>"
      ],
      "text/plain": [
       "    count\n",
       "0  369794"
      ]
     },
     "execution_count": 5,
     "metadata": {},
     "output_type": "execute_result"
    }
   ],
   "source": [
    "query = f\"\"\"\n",
    "select count(*)\n",
    "from study s\n",
    "join participant p on p.study_id = s.kf_id\n",
    "join biospecimen b on b.participant_id  = p.kf_id \n",
    "join biospecimen_genomic_file bgf on bgf.biospecimen_id = b.kf_id\n",
    "join genomic_file gf on gf.kf_id = bgf.genomic_file_id\n",
    "join file_metadata.indexd_scrape is2 on is2.did = gf.latest_did \n",
    "where s.kf_id  in\n",
    "({study_list_str})\n",
    "and \n",
    "p.visible = true\n",
    "and\n",
    "b.visible = true\n",
    "and\n",
    "gf.visible = true\n",
    "\"\"\"\n",
    "\n",
    "file_count_df = pd.read_sql(query,engine)\n",
    "\n",
    "file_count_df"
   ]
  },
  {
   "cell_type": "code",
   "execution_count": 6,
   "metadata": {},
   "outputs": [],
   "source": [
    "engine.dispose()"
   ]
  }
 ],
 "metadata": {
  "kernelspec": {
   "display_name": "venv",
   "language": "python",
   "name": "python3"
  },
  "language_info": {
   "codemirror_mode": {
    "name": "ipython",
    "version": 3
   },
   "file_extension": ".py",
   "mimetype": "text/x-python",
   "name": "python",
   "nbconvert_exporter": "python",
   "pygments_lexer": "ipython3",
   "version": "3.8.10"
  },
  "orig_nbformat": 4
 },
 "nbformat": 4,
 "nbformat_minor": 2
}
