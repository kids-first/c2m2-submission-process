{
 "cells": [
  {
   "cell_type": "code",
   "execution_count": 11,
   "metadata": {},
   "outputs": [
    {
     "data": {
      "text/plain": [
       "'/Users/khanwn/Repos/c2m2-submission-process/data_ingestion/ingested'"
      ]
     },
     "execution_count": 11,
     "metadata": {},
     "output_type": "execute_result"
    }
   ],
   "source": [
    "import os\n",
    "import pandas as pd\n",
    "\n",
    "project_path = os.getcwd()\n",
    "ingest_path = os.path.join(project_path,'ingested')\n",
    "ingest_path"
   ]
  },
  {
   "attachments": {},
   "cell_type": "markdown",
   "metadata": {},
   "source": [
    "# Missing Experiment Strategy Characteristics\n",
    "1. Only visible rows for both tables\n",
    "2. Left join between tables\n",
    "\n",
    "# Synopsis of Result\n",
    "Genomic file related to sequencing experiments that are both simulataneously visible and not visible caused the disparity in experiment strategies for the genomic file using left join. Inner join eliminates the additional sequencing experiment record with experiment strategy omitted.\n"
   ]
  },
  {
   "cell_type": "code",
   "execution_count": 25,
   "metadata": {},
   "outputs": [
    {
     "data": {
      "text/html": [
       "<div>\n",
       "<style scoped>\n",
       "    .dataframe tbody tr th:only-of-type {\n",
       "        vertical-align: middle;\n",
       "    }\n",
       "\n",
       "    .dataframe tbody tr th {\n",
       "        vertical-align: top;\n",
       "    }\n",
       "\n",
       "    .dataframe thead th {\n",
       "        text-align: right;\n",
       "    }\n",
       "</style>\n",
       "<table border=\"1\" class=\"dataframe\">\n",
       "  <thead>\n",
       "    <tr style=\"text-align: right;\">\n",
       "      <th></th>\n",
       "      <th>SG_genomic_file_id</th>\n",
       "      <th>SG_kf_id</th>\n",
       "      <th>SE_kf_id</th>\n",
       "      <th>SE_experiment_strategy</th>\n",
       "      <th>SE_visible</th>\n",
       "    </tr>\n",
       "  </thead>\n",
       "  <tbody>\n",
       "    <tr>\n",
       "      <th>2679</th>\n",
       "      <td>GF_HA17AHM3</td>\n",
       "      <td>SG_FYECN825</td>\n",
       "      <td>SE_2VGRF0JK</td>\n",
       "      <td>WGS</td>\n",
       "      <td>True</td>\n",
       "    </tr>\n",
       "    <tr>\n",
       "      <th>2763</th>\n",
       "      <td>GF_HA17AHM3</td>\n",
       "      <td>SG_01KS30TK</td>\n",
       "      <td>NaN</td>\n",
       "      <td>NaN</td>\n",
       "      <td>NaN</td>\n",
       "    </tr>\n",
       "  </tbody>\n",
       "</table>\n",
       "</div>"
      ],
      "text/plain": [
       "     SG_genomic_file_id     SG_kf_id     SE_kf_id SE_experiment_strategy  \\\n",
       "2679        GF_HA17AHM3  SG_FYECN825  SE_2VGRF0JK                    WGS   \n",
       "2763        GF_HA17AHM3  SG_01KS30TK          NaN                    NaN   \n",
       "\n",
       "     SE_visible  \n",
       "2679       True  \n",
       "2763        NaN  "
      ]
     },
     "execution_count": 25,
     "metadata": {},
     "output_type": "execute_result"
    }
   ],
   "source": [
    "from table_ops import TableJoiner\n",
    "\n",
    "seq_exp_gf_df = pd.read_csv(os.path.join(ingest_path,'sequencing_experiment_genomic_file.csv')).query('visible == True') \n",
    "seq_exp_df = pd.read_csv(os.path.join(ingest_path,'sequencing_experiment.csv')).query('visible == True')\n",
    "\n",
    "joined_df = TableJoiner(seq_exp_gf_df) \\\n",
    "            .left_join(seq_exp_df,\n",
    "                           left_key='SG_sequencing_experiment_id',\n",
    "                           right_key='SE_kf_id') \\\n",
    "            .get_result()\n",
    "\n",
    "joined_df.query('SG_genomic_file_id == \"GF_HA17AHM3\"') \\\n",
    "[['SG_genomic_file_id','SG_kf_id','SE_kf_id','SE_experiment_strategy','SE_visible']]"
   ]
  },
  {
   "attachments": {},
   "cell_type": "markdown",
   "metadata": {},
   "source": [
    "The code snippet below shows the elimination of the additional row for the sequencing genomic file containing the hidden sequencing experiment by using an inner join.\n",
    "\n",
    "Also, it is worth nothing that a left join was done between the genomic_file and sequencing_genomic_file tables to not lose genomic files. However, a left join between the sequencing_genomic_file and sequencing experiment tables is not necessary because the only consequence would be the loss of an experiment strategy."
   ]
  },
  {
   "cell_type": "code",
   "execution_count": 49,
   "metadata": {},
   "outputs": [
    {
     "data": {
      "text/html": [
       "<div>\n",
       "<style scoped>\n",
       "    .dataframe tbody tr th:only-of-type {\n",
       "        vertical-align: middle;\n",
       "    }\n",
       "\n",
       "    .dataframe tbody tr th {\n",
       "        vertical-align: top;\n",
       "    }\n",
       "\n",
       "    .dataframe thead th {\n",
       "        text-align: right;\n",
       "    }\n",
       "</style>\n",
       "<table border=\"1\" class=\"dataframe\">\n",
       "  <thead>\n",
       "    <tr style=\"text-align: right;\">\n",
       "      <th></th>\n",
       "      <th>SG_genomic_file_id</th>\n",
       "      <th>SG_kf_id</th>\n",
       "      <th>SE_kf_id</th>\n",
       "      <th>SE_experiment_strategy</th>\n",
       "    </tr>\n",
       "  </thead>\n",
       "  <tbody>\n",
       "    <tr>\n",
       "      <th>22135</th>\n",
       "      <td>GF_HA17AHM3</td>\n",
       "      <td>SG_FYECN825</td>\n",
       "      <td>SE_2VGRF0JK</td>\n",
       "      <td>WGS</td>\n",
       "    </tr>\n",
       "  </tbody>\n",
       "</table>\n",
       "</div>"
      ],
      "text/plain": [
       "      SG_genomic_file_id     SG_kf_id     SE_kf_id SE_experiment_strategy\n",
       "22135        GF_HA17AHM3  SG_FYECN825  SE_2VGRF0JK                    WGS"
      ]
     },
     "execution_count": 49,
     "metadata": {},
     "output_type": "execute_result"
    }
   ],
   "source": [
    "from table_ops import TableJoiner\n",
    "\n",
    "seq_exp_gf_df = pd.read_csv(os.path.join(ingest_path,'sequencing_experiment_genomic_file.csv')).query('visible == True') \n",
    "seq_exp_df = pd.read_csv(os.path.join(ingest_path,'sequencing_experiment.csv')).query('visible == True')\n",
    "\n",
    "joined_df = TableJoiner(seq_exp_gf_df) \\\n",
    "            .join_kf_table(seq_exp_df,\n",
    "                           left_key='SG_sequencing_experiment_id',\n",
    "                           right_key='SE_kf_id') \\\n",
    "            .get_result()\n",
    "\n",
    "joined_df.query('SG_genomic_file_id == \"GF_HA17AHM3\"') \\\n",
    "[['SG_genomic_file_id','SG_kf_id','SE_kf_id','SE_experiment_strategy']]"
   ]
  },
  {
   "attachments": {},
   "cell_type": "markdown",
   "metadata": {},
   "source": [
    "# Missing Biosample Disease Mappings\n",
    "DOID not present for certain biosamples.\n",
    "# Synopsis of Result\n",
    "Some study id's do not have an associated disease mapping."
   ]
  },
  {
   "cell_type": "code",
   "execution_count": 2,
   "metadata": {},
   "outputs": [],
   "source": [
    "import os\n",
    "import pandas as pd\n",
    "from table_ops import TableJoiner\n",
    "\n",
    "project_path = os.getcwd()\n",
    "ingest_path = os.path.join(project_path,'ingested')"
   ]
  },
  {
   "cell_type": "code",
   "execution_count": 3,
   "metadata": {},
   "outputs": [
    {
     "name": "stderr",
     "output_type": "stream",
     "text": [
      "/var/folders/4p/4mv7p7vd3rv1yllqvd9n2fx4krklcy/T/ipykernel_79863/283105632.py:2: DtypeWarning: Columns (14) have mixed types. Specify dtype option on import or set low_memory=False.\n",
      "  biospec_df = pd.read_csv(os.path.join(ingest_path,'biospecimen.csv')).query('visible == True')\n"
     ]
    },
    {
     "data": {
      "text/html": [
       "<div>\n",
       "<style scoped>\n",
       "    .dataframe tbody tr th:only-of-type {\n",
       "        vertical-align: middle;\n",
       "    }\n",
       "\n",
       "    .dataframe tbody tr th {\n",
       "        vertical-align: top;\n",
       "    }\n",
       "\n",
       "    .dataframe thead th {\n",
       "        text-align: right;\n",
       "    }\n",
       "</style>\n",
       "<table border=\"1\" class=\"dataframe\">\n",
       "  <thead>\n",
       "    <tr style=\"text-align: right;\">\n",
       "      <th></th>\n",
       "      <th>PT_study_id</th>\n",
       "      <th>BS_kf_id</th>\n",
       "      <th>DOID</th>\n",
       "    </tr>\n",
       "  </thead>\n",
       "  <tbody>\n",
       "    <tr>\n",
       "      <th>106325</th>\n",
       "      <td>SD_DZ4GPQX6</td>\n",
       "      <td>BS_00Z52JT7</td>\n",
       "      <td>NaN</td>\n",
       "    </tr>\n",
       "  </tbody>\n",
       "</table>\n",
       "</div>"
      ],
      "text/plain": [
       "        PT_study_id     BS_kf_id DOID\n",
       "106325  SD_DZ4GPQX6  BS_00Z52JT7  NaN"
      ]
     },
     "execution_count": 3,
     "metadata": {},
     "output_type": "execute_result"
    }
   ],
   "source": [
    "kf_participant_df = pd.read_csv(os.path.join(ingest_path,'participant.csv')).query('visible == True')\n",
    "biospec_df = pd.read_csv(os.path.join(ingest_path,'biospecimen.csv')).query('visible == True')\n",
    "disease_mapping_df = pd.read_csv(os.path.join(project_path,'conversion_tables','project_disease_matrix_only.csv'))\n",
    "studies_df = pd.read_table(os.path.join(project_path,'studies_on_portal.txt'))\n",
    "\n",
    "kf_biospecs = TableJoiner(kf_participant_df) \\\n",
    "                .join_kf_table(disease_mapping_df,\n",
    "                               left_key='PT_study_id',\n",
    "                               right_key='study_id') \\\n",
    "                .join_kf_table(studies_df,\n",
    "                               left_key='PT_study_id',\n",
    "                               right_key='studies_on_portal') \\\n",
    "                .join_kf_table(biospec_df,\n",
    "                               left_key='PT_kf_id',\n",
    "                               right_key='BS_participant_id') \\\n",
    "                .get_result()\n",
    "\n",
    "kf_biospecs.query('BS_kf_id == \"BS_00Z52JT7\"')[['PT_study_id','BS_kf_id','DOID']]"
   ]
  },
  {
   "attachments": {},
   "cell_type": "markdown",
   "metadata": {},
   "source": [
    "# Missing Subject Disease mapping\n",
    "\n",
    "Same issue with missing biosample disease mapping"
   ]
  },
  {
   "cell_type": "code",
   "execution_count": 4,
   "metadata": {},
   "outputs": [
    {
     "data": {
      "text/html": [
       "<div>\n",
       "<style scoped>\n",
       "    .dataframe tbody tr th:only-of-type {\n",
       "        vertical-align: middle;\n",
       "    }\n",
       "\n",
       "    .dataframe tbody tr th {\n",
       "        vertical-align: top;\n",
       "    }\n",
       "\n",
       "    .dataframe thead th {\n",
       "        text-align: right;\n",
       "    }\n",
       "</style>\n",
       "<table border=\"1\" class=\"dataframe\">\n",
       "  <thead>\n",
       "    <tr style=\"text-align: right;\">\n",
       "      <th></th>\n",
       "      <th>PT_study_id</th>\n",
       "      <th>BS_kf_id</th>\n",
       "      <th>DOID</th>\n",
       "    </tr>\n",
       "  </thead>\n",
       "  <tbody>\n",
       "    <tr>\n",
       "      <th>106248</th>\n",
       "      <td>SD_DZ4GPQX6</td>\n",
       "      <td>BS_V63P5DMB</td>\n",
       "      <td>NaN</td>\n",
       "    </tr>\n",
       "  </tbody>\n",
       "</table>\n",
       "</div>"
      ],
      "text/plain": [
       "        PT_study_id     BS_kf_id DOID\n",
       "106248  SD_DZ4GPQX6  BS_V63P5DMB  NaN"
      ]
     },
     "execution_count": 4,
     "metadata": {},
     "output_type": "execute_result"
    }
   ],
   "source": [
    "subject_disease_df = TableJoiner(kf_participant_df) \\\n",
    "                        .join_kf_table(disease_mapping_df,\n",
    "                                       left_key='PT_study_id',\n",
    "                                       right_key='study_id') \\\n",
    "                        .get_result()\n",
    "\n",
    "kf_biospecs.query('PT_kf_id == \"PT_05Y7NVK2\"')[['PT_study_id','BS_kf_id','DOID']]"
   ]
  },
  {
   "attachments": {},
   "cell_type": "markdown",
   "metadata": {},
   "source": [
    "# Missing Genomic Files\n",
    "No idea at this point"
   ]
  },
  {
   "cell_type": "code",
   "execution_count": 5,
   "metadata": {},
   "outputs": [],
   "source": [
    "kf_participant_df = pd.read_csv(os.path.join(ingest_path,'participant.csv')).query('visible == True')\n",
    "studies_df = pd.read_table(os.path.join(project_path,'studies_on_portal.txt'))\n",
    "\n",
    "kf_parts = TableJoiner(kf_participant_df) \\\n",
    "        .join_kf_table(studies_df,\n",
    "                       left_key='PT_study_id',\n",
    "                       right_key='studies_on_portal') \\\n",
    "        .get_result()\n"
   ]
  },
  {
   "attachments": {},
   "cell_type": "markdown",
   "metadata": {},
   "source": [
    "The cell above is gathering participants from studies on portal\n",
    "\n",
    "The cell below is acuiring genomic file data."
   ]
  },
  {
   "cell_type": "code",
   "execution_count": 47,
   "metadata": {},
   "outputs": [
    {
     "data": {
      "text/html": [
       "<div>\n",
       "<style scoped>\n",
       "    .dataframe tbody tr th:only-of-type {\n",
       "        vertical-align: middle;\n",
       "    }\n",
       "\n",
       "    .dataframe tbody tr th {\n",
       "        vertical-align: top;\n",
       "    }\n",
       "\n",
       "    .dataframe thead th {\n",
       "        text-align: right;\n",
       "    }\n",
       "</style>\n",
       "<table border=\"1\" class=\"dataframe\">\n",
       "  <thead>\n",
       "    <tr style=\"text-align: right;\">\n",
       "      <th></th>\n",
       "      <th>PT_study_id</th>\n",
       "      <th>PT_kf_id</th>\n",
       "      <th>BS_kf_id</th>\n",
       "      <th>GF_kf_id</th>\n",
       "      <th>GF_data_type</th>\n",
       "    </tr>\n",
       "  </thead>\n",
       "  <tbody>\n",
       "    <tr>\n",
       "      <th>171418</th>\n",
       "      <td>SD_DYPMEHHF</td>\n",
       "      <td>PT_M8RHAK5K</td>\n",
       "      <td>BS_Z862V8M7</td>\n",
       "      <td>GF_02R9K485</td>\n",
       "      <td>Raw Somatic Structural Variation Index</td>\n",
       "    </tr>\n",
       "    <tr>\n",
       "      <th>171419</th>\n",
       "      <td>SD_DYPMEHHF</td>\n",
       "      <td>PT_M8RHAK5K</td>\n",
       "      <td>BS_WGYG91X8</td>\n",
       "      <td>GF_02R9K485</td>\n",
       "      <td>Raw Somatic Structural Variation Index</td>\n",
       "    </tr>\n",
       "  </tbody>\n",
       "</table>\n",
       "</div>"
      ],
      "text/plain": [
       "        PT_study_id     PT_kf_id     BS_kf_id     GF_kf_id  \\\n",
       "171418  SD_DYPMEHHF  PT_M8RHAK5K  BS_Z862V8M7  GF_02R9K485   \n",
       "171419  SD_DYPMEHHF  PT_M8RHAK5K  BS_WGYG91X8  GF_02R9K485   \n",
       "\n",
       "                                  GF_data_type  \n",
       "171418  Raw Somatic Structural Variation Index  \n",
       "171419  Raw Somatic Structural Variation Index  "
      ]
     },
     "execution_count": 47,
     "metadata": {},
     "output_type": "execute_result"
    }
   ],
   "source": [
    "biospec_df = pd.read_csv(os.path.join(ingest_path,'biospecimen.csv'),low_memory=False).query('visible == True')\n",
    "biospec_genomic_df = pd.read_csv(os.path.join(ingest_path,'biospecimen_genomic_file.csv'),low_memory=False).query('visible == True')\n",
    "genomic_file_df = pd.read_csv(os.path.join(ingest_path,'genomic_file.csv'),low_memory=False).query('visible == True')\n",
    "\n",
    "genomic_file_df = TableJoiner(kf_parts) \\\n",
    "                .join_kf_table(biospec_df,\n",
    "                               left_key='PT_kf_id',\n",
    "                               right_key='BS_participant_id') \\\n",
    "                .join_kf_table(biospec_genomic_df,\n",
    "                               left_key='BS_kf_id',\n",
    "                               right_key='BG_biospecimen_id') \\\n",
    "                .join_kf_table(genomic_file_df,\n",
    "                               left_key='BG_genomic_file_id',\n",
    "                               right_key='GF_kf_id') \\\n",
    "                                .get_result()\n",
    "\n",
    "genomic_file_df = genomic_file_df.query('GF_kf_id == \"GF_02R9K485\"')\n",
    "#genomic_file_df[[col for col in genomic_file_df.columns if isinstance(col,str) and col.startswith('BS')]]\n",
    "genomic_file_df[['PT_study_id','PT_kf_id','BS_kf_id','GF_kf_id','GF_data_type']]"
   ]
  },
  {
   "attachments": {},
   "cell_type": "markdown",
   "metadata": {},
   "source": [
    "The cell below is joining the genomic file to the sequencing experiment files."
   ]
  },
  {
   "cell_type": "code",
   "execution_count": 41,
   "metadata": {},
   "outputs": [
    {
     "data": {
      "text/html": [
       "<div>\n",
       "<style scoped>\n",
       "    .dataframe tbody tr th:only-of-type {\n",
       "        vertical-align: middle;\n",
       "    }\n",
       "\n",
       "    .dataframe tbody tr th {\n",
       "        vertical-align: top;\n",
       "    }\n",
       "\n",
       "    .dataframe thead th {\n",
       "        text-align: right;\n",
       "    }\n",
       "</style>\n",
       "<table border=\"1\" class=\"dataframe\">\n",
       "  <thead>\n",
       "    <tr style=\"text-align: right;\">\n",
       "      <th></th>\n",
       "      <th>GF_kf_id</th>\n",
       "      <th>SG_kf_id</th>\n",
       "      <th>SE_kf_id</th>\n",
       "      <th>GF_latest_did</th>\n",
       "      <th>BS_source_text_tissue_type</th>\n",
       "      <th>SE_experiment_strategy</th>\n",
       "    </tr>\n",
       "  </thead>\n",
       "  <tbody>\n",
       "    <tr>\n",
       "      <th>0</th>\n",
       "      <td>GF_02R9K485</td>\n",
       "      <td>SG_09WY9HHM</td>\n",
       "      <td>SE_AWYNZQN7</td>\n",
       "      <td>2f88b198-10b8-40e0-8edc-f60329999695</td>\n",
       "      <td>Tumor</td>\n",
       "      <td>WXS</td>\n",
       "    </tr>\n",
       "    <tr>\n",
       "      <th>1</th>\n",
       "      <td>GF_02R9K485</td>\n",
       "      <td>SG_09WY9HHM</td>\n",
       "      <td>SE_AWYNZQN7</td>\n",
       "      <td>2f88b198-10b8-40e0-8edc-f60329999695</td>\n",
       "      <td>Normal</td>\n",
       "      <td>WXS</td>\n",
       "    </tr>\n",
       "    <tr>\n",
       "      <th>2</th>\n",
       "      <td>GF_02R9K485</td>\n",
       "      <td>SG_A6HEMSPD</td>\n",
       "      <td>SE_E91RDF3H</td>\n",
       "      <td>2f88b198-10b8-40e0-8edc-f60329999695</td>\n",
       "      <td>Tumor</td>\n",
       "      <td>WGS</td>\n",
       "    </tr>\n",
       "    <tr>\n",
       "      <th>3</th>\n",
       "      <td>GF_02R9K485</td>\n",
       "      <td>SG_A6HEMSPD</td>\n",
       "      <td>SE_E91RDF3H</td>\n",
       "      <td>2f88b198-10b8-40e0-8edc-f60329999695</td>\n",
       "      <td>Normal</td>\n",
       "      <td>WGS</td>\n",
       "    </tr>\n",
       "    <tr>\n",
       "      <th>4</th>\n",
       "      <td>GF_02R9K485</td>\n",
       "      <td>SG_NJZHTJ3G</td>\n",
       "      <td>SE_57SP41D5</td>\n",
       "      <td>2f88b198-10b8-40e0-8edc-f60329999695</td>\n",
       "      <td>Tumor</td>\n",
       "      <td>WGS</td>\n",
       "    </tr>\n",
       "    <tr>\n",
       "      <th>5</th>\n",
       "      <td>GF_02R9K485</td>\n",
       "      <td>SG_NJZHTJ3G</td>\n",
       "      <td>SE_57SP41D5</td>\n",
       "      <td>2f88b198-10b8-40e0-8edc-f60329999695</td>\n",
       "      <td>Normal</td>\n",
       "      <td>WGS</td>\n",
       "    </tr>\n",
       "  </tbody>\n",
       "</table>\n",
       "</div>"
      ],
      "text/plain": [
       "      GF_kf_id     SG_kf_id     SE_kf_id  \\\n",
       "0  GF_02R9K485  SG_09WY9HHM  SE_AWYNZQN7   \n",
       "1  GF_02R9K485  SG_09WY9HHM  SE_AWYNZQN7   \n",
       "2  GF_02R9K485  SG_A6HEMSPD  SE_E91RDF3H   \n",
       "3  GF_02R9K485  SG_A6HEMSPD  SE_E91RDF3H   \n",
       "4  GF_02R9K485  SG_NJZHTJ3G  SE_57SP41D5   \n",
       "5  GF_02R9K485  SG_NJZHTJ3G  SE_57SP41D5   \n",
       "\n",
       "                          GF_latest_did BS_source_text_tissue_type  \\\n",
       "0  2f88b198-10b8-40e0-8edc-f60329999695                      Tumor   \n",
       "1  2f88b198-10b8-40e0-8edc-f60329999695                     Normal   \n",
       "2  2f88b198-10b8-40e0-8edc-f60329999695                      Tumor   \n",
       "3  2f88b198-10b8-40e0-8edc-f60329999695                     Normal   \n",
       "4  2f88b198-10b8-40e0-8edc-f60329999695                      Tumor   \n",
       "5  2f88b198-10b8-40e0-8edc-f60329999695                     Normal   \n",
       "\n",
       "  SE_experiment_strategy  \n",
       "0                    WXS  \n",
       "1                    WXS  \n",
       "2                    WGS  \n",
       "3                    WGS  \n",
       "4                    WGS  \n",
       "5                    WGS  "
      ]
     },
     "execution_count": 41,
     "metadata": {},
     "output_type": "execute_result"
    }
   ],
   "source": [
    "seq_exp_gf_df = pd.read_csv(os.path.join(ingest_path,'sequencing_experiment_genomic_file.csv')).query('visible == True') \n",
    "seq_exp_df = pd.read_csv(os.path.join(ingest_path,'sequencing_experiment.csv')).query('visible == True')\n",
    "\n",
    "with_seq_df = TableJoiner(genomic_file_df) \\\n",
    "            .left_join(seq_exp_gf_df,\n",
    "                           left_key='GF_kf_id',\n",
    "                           right_key='SG_genomic_file_id') \\\n",
    "            .join_kf_table(seq_exp_df,\n",
    "                           left_key='SG_sequencing_experiment_id',\n",
    "                           right_key='SE_kf_id') \\\n",
    "            .get_result()\n",
    "\n",
    "with_seq_df[['GF_kf_id','SG_kf_id','SE_kf_id','GF_latest_did','BS_source_text_tissue_type','SE_experiment_strategy']].drop_duplicates()"
   ]
  },
  {
   "cell_type": "code",
   "execution_count": 13,
   "metadata": {},
   "outputs": [],
   "source": [
    "indexd_df = pd.read_csv(os.path.join(ingest_path,'indexd_scrape.csv'),low_memory=False)\n",
    "hashes_df = pd.read_csv(os.path.join(ingest_path,'hashes_old.csv'),low_memory=False)\n",
    "aws_scrape_df = pd.read_csv(os.path.join(ingest_path,'aws_scrape.csv'),low_memory=False)"
   ]
  },
  {
   "cell_type": "code",
   "execution_count": 14,
   "metadata": {},
   "outputs": [],
   "source": [
    "metadata_df = TableJoiner(indexd_df) \\\n",
    "            .join_kf_table(hashes_df,\n",
    "                           left_key='url',\n",
    "                           right_key='s3path') \\\n",
    "            .join_kf_table(aws_scrape_df,\n",
    "                           left_key='url',\n",
    "                           right_key='s3path') \\\n",
    "            .get_result()"
   ]
  },
  {
   "cell_type": "code",
   "execution_count": 46,
   "metadata": {},
   "outputs": [
    {
     "data": {
      "text/html": [
       "<div>\n",
       "<style scoped>\n",
       "    .dataframe tbody tr th:only-of-type {\n",
       "        vertical-align: middle;\n",
       "    }\n",
       "\n",
       "    .dataframe tbody tr th {\n",
       "        vertical-align: top;\n",
       "    }\n",
       "\n",
       "    .dataframe thead th {\n",
       "        text-align: right;\n",
       "    }\n",
       "</style>\n",
       "<table border=\"1\" class=\"dataframe\">\n",
       "  <thead>\n",
       "    <tr style=\"text-align: right;\">\n",
       "      <th></th>\n",
       "      <th>GF_kf_id</th>\n",
       "      <th>file_name</th>\n",
       "    </tr>\n",
       "  </thead>\n",
       "  <tbody>\n",
       "    <tr>\n",
       "      <th>0</th>\n",
       "      <td>GF_02R9K485</td>\n",
       "      <td>NaN</td>\n",
       "    </tr>\n",
       "    <tr>\n",
       "      <th>1</th>\n",
       "      <td>GF_02R9K485</td>\n",
       "      <td>NaN</td>\n",
       "    </tr>\n",
       "    <tr>\n",
       "      <th>2</th>\n",
       "      <td>GF_02R9K485</td>\n",
       "      <td>NaN</td>\n",
       "    </tr>\n",
       "    <tr>\n",
       "      <th>3</th>\n",
       "      <td>GF_02R9K485</td>\n",
       "      <td>NaN</td>\n",
       "    </tr>\n",
       "    <tr>\n",
       "      <th>4</th>\n",
       "      <td>GF_02R9K485</td>\n",
       "      <td>NaN</td>\n",
       "    </tr>\n",
       "    <tr>\n",
       "      <th>5</th>\n",
       "      <td>GF_02R9K485</td>\n",
       "      <td>NaN</td>\n",
       "    </tr>\n",
       "  </tbody>\n",
       "</table>\n",
       "</div>"
      ],
      "text/plain": [
       "      GF_kf_id file_name\n",
       "0  GF_02R9K485       NaN\n",
       "1  GF_02R9K485       NaN\n",
       "2  GF_02R9K485       NaN\n",
       "3  GF_02R9K485       NaN\n",
       "4  GF_02R9K485       NaN\n",
       "5  GF_02R9K485       NaN"
      ]
     },
     "execution_count": 46,
     "metadata": {},
     "output_type": "execute_result"
    }
   ],
   "source": [
    "from cfde_convert import kf_to_cfde_subject_value_converter\n",
    "\n",
    "with_metadata_df = TableJoiner(with_seq_df) \\\n",
    "                .left_join(metadata_df,\n",
    "                           left_key='GF_latest_did',\n",
    "                           right_key='did') \\\n",
    "                .get_result()\n",
    "\n",
    "with_metadata_df = kf_to_cfde_subject_value_converter(with_metadata_df,'SE_experiment_strategy')\n",
    "#with_metadata_df[['PT_kf_id','BS_kf_id','GF_kf_id','SE_experiment_strategy','filename']].drop_duplicates()\n",
    "with_metadata_df[['GF_kf_id','file_name']]"
   ]
  },
  {
   "attachments": {},
   "cell_type": "markdown",
   "metadata": {},
   "source": [
    "# Additional Issues\n",
    "## file.tsv\n",
    "1. Checksum not acquired for some files for which drs uri's were computed\n",
    "2. Multiple experiment strategies per genomic file\n",
    "## file_describes_biosample.tsv\n",
    "1. biosamples with missing genomic files\n",
    "## disease tables\n",
    "1. Inquire into ontology for study missing disease identifier"
   ]
  }
 ],
 "metadata": {
  "kernelspec": {
   "display_name": "c2m2-submission-process",
   "language": "python",
   "name": "python3"
  },
  "language_info": {
   "codemirror_mode": {
    "name": "ipython",
    "version": 3
   },
   "file_extension": ".py",
   "mimetype": "text/x-python",
   "name": "python",
   "nbconvert_exporter": "python",
   "pygments_lexer": "ipython3",
   "version": "3.10.10"
  },
  "orig_nbformat": 4
 },
 "nbformat": 4,
 "nbformat_minor": 2
}
