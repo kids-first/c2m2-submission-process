{
 "cells": [
  {
   "cell_type": "markdown",
   "metadata": {},
   "source": [
    "# Inquiry into Kids First to FHIR model mapping"
   ]
  },
  {
   "cell_type": "markdown",
   "metadata": {},
   "source": [
    "## Build a ship of pyrates"
   ]
  },
  {
   "cell_type": "code",
   "execution_count": 1,
   "metadata": {},
   "outputs": [],
   "source": [
    "from fhir_pyrate import Pirate, Ahoy\n",
    "import pandas as pd\n",
    "\n",
    "pd.set_option('display.max_columns',None)\n",
    "pd.set_option('display.expand_frame_repr',False)\n",
    "\n",
    "PROD_URL = 'https://kf-api-fhir-service.kidsfirstdrc.org/'\n",
    "DEV_URL = 'https://kf-api-fhir-service-dev.kidsfirstdrc.org/'\n",
    "QA_URL = 'https://kf-api-fhir-service-qa.kidsfirstdrc.org'\n",
    "\n",
    "ENDPOINT_URLS = {\n",
    "    'PROD_URL' : 'https://kf-api-fhir-service.kidsfirstdrc.org/',\n",
    "    'QA_URL' : 'https://kf-api-fhir-service-qa.kidsfirstdrc.org',\n",
    "    'DEV_URL' : 'https://kf-api-fhir-service-dev.kidsfirstdrc.org/'\n",
    "}\n",
    "\n",
    "def get_pirate(url):\n",
    "    auth = Ahoy(\n",
    "        username=\"wnkhan32@gmail.com\",\n",
    "        auth_method=None,\n",
    "        auth_url=url\n",
    "    )\n",
    "\n",
    "    pirate = Pirate(\n",
    "        auth=auth, \n",
    "        base_url=url, \n",
    "        print_request_url=False, \n",
    "        num_processes=1\n",
    "    )   \n",
    "\n",
    "    return pirate\n",
    "\n",
    "ship = {\n",
    "    url_label : get_pirate(url) \n",
    "    for url_label, url in ENDPOINT_URLS.items()\n",
    "}"
   ]
  },
  {
   "cell_type": "markdown",
   "metadata": {},
   "source": [
    "## Check Pyrate Booty"
   ]
  },
  {
   "cell_type": "code",
   "execution_count": 2,
   "metadata": {},
   "outputs": [
    {
     "name": "stderr",
     "output_type": "stream",
     "text": [
      "Query & Build DF (ResearchStudy): 100%|██████████| 1/1 [00:00<00:00, 1884.23it/s]"
     ]
    },
    {
     "name": "stderr",
     "output_type": "stream",
     "text": [
      "\n"
     ]
    },
    {
     "name": "stdout",
     "output_type": "stream",
     "text": [
      "Failed to get data from: https://kf-api-fhir-service-qa.kidsfirstdrc.org/ResearchStudy?\n",
      "Failed to get data from: https://kf-api-fhir-service-dev.kidsfirstdrc.org/ResearchStudy?\n"
     ]
    },
    {
     "data": {
      "text/plain": [
       "{'PROD_URL': ['SD_65064P2Z', 'SD_Y6VRG6MD', 'SD_FYCR78W0', 'SD_T8VSYRSG'],\n",
       " 'QA_URL': [],\n",
       " 'DEV_URL': []}"
      ]
     },
     "execution_count": 2,
     "metadata": {},
     "output_type": "execute_result"
    }
   ],
   "source": [
    "import requests\n",
    "\n",
    "def get_studies(pirate: Pirate):\n",
    "    studies = []\n",
    "    try:\n",
    "        studies_df = pirate.steal_bundles_to_dataframe(\n",
    "            resource_type='ResearchStudy',\n",
    "            fhir_paths=[\n",
    "                ('study_ids','meta.tag[0].code'),\n",
    "            ]\n",
    "        )\n",
    "        if isinstance(studies_df,pd.DataFrame) and 'study_ids' in studies_df.columns:\n",
    "            studies = studies_df['study_ids'].to_list()\n",
    "    except (requests.exceptions.HTTPError) as e:\n",
    "        print(e.response)\n",
    "\n",
    "    return studies\n",
    "\n",
    "endpoint_studies = {\n",
    "    label : get_studies(pirate)\n",
    "    for label, pirate in ship.items()\n",
    "}\n",
    "\n",
    "endpoint_studies"
   ]
  },
  {
   "cell_type": "markdown",
   "metadata": {},
   "source": [
    "## Check Stuides in Pyrate Booty"
   ]
  },
  {
   "cell_type": "code",
   "execution_count": 3,
   "metadata": {},
   "outputs": [
    {
     "name": "stderr",
     "output_type": "stream",
     "text": [
      "Query & Build DF (ResearchStudy): 100%|██████████| 1/1 [00:00<00:00, 1309.49it/s]\n"
     ]
    },
    {
     "data": {
      "text/html": [
       "<div>\n",
       "<style scoped>\n",
       "    .dataframe tbody tr th:only-of-type {\n",
       "        vertical-align: middle;\n",
       "    }\n",
       "\n",
       "    .dataframe tbody tr th {\n",
       "        vertical-align: top;\n",
       "    }\n",
       "\n",
       "    .dataframe thead th {\n",
       "        text-align: right;\n",
       "    }\n",
       "</style>\n",
       "<table border=\"1\" class=\"dataframe\">\n",
       "  <thead>\n",
       "    <tr style=\"text-align: right;\">\n",
       "      <th></th>\n",
       "      <th>study_ids</th>\n",
       "      <th>study_type</th>\n",
       "    </tr>\n",
       "  </thead>\n",
       "  <tbody>\n",
       "    <tr>\n",
       "      <th>0</th>\n",
       "      <td>SD_65064P2Z</td>\n",
       "      <td>INCLUDE</td>\n",
       "    </tr>\n",
       "    <tr>\n",
       "      <th>1</th>\n",
       "      <td>SD_Y6VRG6MD</td>\n",
       "      <td>INCLUDE</td>\n",
       "    </tr>\n",
       "    <tr>\n",
       "      <th>2</th>\n",
       "      <td>SD_FYCR78W0</td>\n",
       "      <td>INCLUDE</td>\n",
       "    </tr>\n",
       "    <tr>\n",
       "      <th>3</th>\n",
       "      <td>SD_T8VSYRSG</td>\n",
       "      <td>INCLUDE</td>\n",
       "    </tr>\n",
       "  </tbody>\n",
       "</table>\n",
       "</div>"
      ],
      "text/plain": [
       "     study_ids study_type\n",
       "0  SD_65064P2Z    INCLUDE\n",
       "1  SD_Y6VRG6MD    INCLUDE\n",
       "2  SD_FYCR78W0    INCLUDE\n",
       "3  SD_T8VSYRSG    INCLUDE"
      ]
     },
     "execution_count": 3,
     "metadata": {},
     "output_type": "execute_result"
    }
   ],
   "source": [
    "metadata = ship['PROD_URL'].steal_bundles_to_dataframe(\n",
    "    resource_type='ResearchStudy',\n",
    "    fhir_paths=[\n",
    "        ('study_ids','meta.tag[0].code'),\n",
    "        ('study_type','keyword[1].coding[0].code')\n",
    "    ]\n",
    ")\n",
    "\n",
    "metadata\n"
   ]
  },
  {
   "cell_type": "markdown",
   "metadata": {},
   "source": [
    "## Noteworthy results\n",
    "1. Creation time not identified\n",
    "2. No column identified for age_at_enrollment\n",
    "\n",
    "# KF FHIR Patient &rarr; C2M2 Subject\n",
    "| C2M2 Field | FHIR Field |\n",
    "| ---------- | ---------- |\n",
    "| local_id   | Patient.identifier[].value |\n",
    "| project_local_id | Patient.meta_tag[].code |\n",
    "| sex | Patient.gender |\n",
    "| ethnicity | Patient.extension_1_extension_0_valueString |\n",
    " \n"
   ]
  },
  {
   "cell_type": "code",
   "execution_count": 4,
   "metadata": {},
   "outputs": [
    {
     "name": "stderr",
     "output_type": "stream",
     "text": [
      "Query & Build DF (Patient): 40it [00:04,  9.92it/s]\n"
     ]
    },
    {
     "data": {
      "text/html": [
       "<div>\n",
       "<style scoped>\n",
       "    .dataframe tbody tr th:only-of-type {\n",
       "        vertical-align: middle;\n",
       "    }\n",
       "\n",
       "    .dataframe tbody tr th {\n",
       "        vertical-align: top;\n",
       "    }\n",
       "\n",
       "    .dataframe thead th {\n",
       "        text-align: right;\n",
       "    }\n",
       "</style>\n",
       "<table border=\"1\" class=\"dataframe\">\n",
       "  <thead>\n",
       "    <tr style=\"text-align: right;\">\n",
       "      <th></th>\n",
       "      <th>kf_id</th>\n",
       "      <th>study_id</th>\n",
       "      <th>sex</th>\n",
       "      <th>ethnicity</th>\n",
       "    </tr>\n",
       "  </thead>\n",
       "  <tbody>\n",
       "    <tr>\n",
       "      <th>0</th>\n",
       "      <td>PT_TMQWP2F8</td>\n",
       "      <td>SD_65064P2Z</td>\n",
       "      <td>female</td>\n",
       "      <td>Not Reported</td>\n",
       "    </tr>\n",
       "    <tr>\n",
       "      <th>1</th>\n",
       "      <td>PT_ESANSF5N</td>\n",
       "      <td>SD_65064P2Z</td>\n",
       "      <td>female</td>\n",
       "      <td>Not Hispanic or Latino</td>\n",
       "    </tr>\n",
       "    <tr>\n",
       "      <th>2</th>\n",
       "      <td>PT_QV8RJTJY</td>\n",
       "      <td>SD_65064P2Z</td>\n",
       "      <td>female</td>\n",
       "      <td>Not Hispanic or Latino</td>\n",
       "    </tr>\n",
       "    <tr>\n",
       "      <th>3</th>\n",
       "      <td>PT_FV1C37JJ</td>\n",
       "      <td>SD_65064P2Z</td>\n",
       "      <td>male</td>\n",
       "      <td>Not Hispanic or Latino</td>\n",
       "    </tr>\n",
       "    <tr>\n",
       "      <th>4</th>\n",
       "      <td>PT_F2YJRHS0</td>\n",
       "      <td>SD_65064P2Z</td>\n",
       "      <td>female</td>\n",
       "      <td>Not Hispanic or Latino</td>\n",
       "    </tr>\n",
       "  </tbody>\n",
       "</table>\n",
       "</div>"
      ],
      "text/plain": [
       "         kf_id     study_id     sex               ethnicity\n",
       "0  PT_TMQWP2F8  SD_65064P2Z  female            Not Reported\n",
       "1  PT_ESANSF5N  SD_65064P2Z  female  Not Hispanic or Latino\n",
       "2  PT_QV8RJTJY  SD_65064P2Z  female  Not Hispanic or Latino\n",
       "3  PT_FV1C37JJ  SD_65064P2Z    male  Not Hispanic or Latino\n",
       "4  PT_F2YJRHS0  SD_65064P2Z  female  Not Hispanic or Latino"
      ]
     },
     "execution_count": 4,
     "metadata": {},
     "output_type": "execute_result"
    }
   ],
   "source": [
    "patient_df = ship['PROD_URL'].steal_bundles_to_dataframe(\n",
    "    resource_type=\"Patient\",\n",
    "    fhir_paths=[\n",
    "        (\"kf_id\",\"identifier[0].value\"),\n",
    "        (\"study_id\",\"meta.tag[0].code\"),\n",
    "        (\"sex\",\"gender\"),\n",
    "        (\"ethnicity\",\"extension[1].extension[0].valueString\"),\n",
    "    ]\n",
    ")\n",
    "\n",
    "patient_df.head()"
   ]
  }
 ],
 "metadata": {
  "kernelspec": {
   "display_name": "venv",
   "language": "python",
   "name": "python3"
  },
  "language_info": {
   "codemirror_mode": {
    "name": "ipython",
    "version": 3
   },
   "file_extension": ".py",
   "mimetype": "text/x-python",
   "name": "python",
   "nbconvert_exporter": "python",
   "pygments_lexer": "ipython3",
   "version": "3.8.10"
  },
  "orig_nbformat": 4
 },
 "nbformat": 4,
 "nbformat_minor": 2
}
