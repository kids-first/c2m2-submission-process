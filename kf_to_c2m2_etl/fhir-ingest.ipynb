{
 "cells": [
  {
   "cell_type": "markdown",
   "metadata": {},
   "source": [
    "# Inquiry into Kids First to FHIR model mapping"
   ]
  },
  {
   "cell_type": "markdown",
   "metadata": {},
   "source": [
    "## Build a ship of pyrates"
   ]
  },
  {
   "cell_type": "code",
   "execution_count": 1,
   "metadata": {},
   "outputs": [
    {
     "name": "stderr",
     "output_type": "stream",
     "text": [
      "/home/ubuntu/c2m2-submission-process/venv/lib/python3.8/site-packages/tqdm/auto.py:22: TqdmWarning: IProgress not found. Please update jupyter and ipywidgets. See https://ipywidgets.readthedocs.io/en/stable/user_install.html\n",
      "  from .autonotebook import tqdm as notebook_tqdm\n"
     ]
    }
   ],
   "source": [
    "from fhir_pyrate import Pirate, Ahoy\n",
    "import pandas as pd\n",
    "\n",
    "pd.set_option('display.max_columns',None)\n",
    "pd.set_option('display.expand_frame_repr',False)\n",
    "\n",
    "PROD_URL = 'https://kf-api-fhir-service.kidsfirstdrc.org/'\n",
    "DEV_URL = 'https://kf-api-fhir-service-dev.kidsfirstdrc.org/'\n",
    "QA_URL = 'https://kf-api-fhir-service-qa.kidsfirstdrc.org'\n",
    "\n",
    "ENDPOINT_URLS = {\n",
    "    'PROD_URL' : 'https://kf-api-fhir-service.kidsfirstdrc.org/',\n",
    "    'QA_URL' : 'https://kf-api-fhir-service-qa.kidsfirstdrc.org',\n",
    "    'DEV_URL' : 'https://kf-api-fhir-service-dev.kidsfirstdrc.org/'\n",
    "}\n",
    "\n",
    "def get_pirate(url):\n",
    "    auth = Ahoy(\n",
    "        username=\"wnkhan32@gmail.com\",\n",
    "        auth_method=None,\n",
    "        auth_url=url\n",
    "    )\n",
    "\n",
    "    pirate = Pirate(\n",
    "        auth=auth, \n",
    "        base_url=url, \n",
    "        print_request_url=False, \n",
    "        num_processes=1\n",
    "    )   \n",
    "\n",
    "    return pirate\n",
    "\n",
    "ship = {\n",
    "    url_label : get_pirate(url) \n",
    "    for url_label, url in ENDPOINT_URLS.items()\n",
    "}"
   ]
  },
  {
   "cell_type": "markdown",
   "metadata": {},
   "source": [
    "## Check Pyrate Booty"
   ]
  },
  {
   "cell_type": "code",
   "execution_count": 2,
   "metadata": {},
   "outputs": [
    {
     "name": "stderr",
     "output_type": "stream",
     "text": [
      "Query & Build DF (ResearchStudy): 100%|██████████| 1/1 [00:00<00:00, 448.59it/s]\n",
      "Query & Build DF (ResearchStudy): 100%|██████████| 1/1 [00:00<00:00, 450.66it/s]"
     ]
    },
    {
     "name": "stdout",
     "output_type": "stream",
     "text": [
      "Failed to reach: https://kf-api-fhir-service-dev.kidsfirstdrc.org/ResearchStudy?\n"
     ]
    },
    {
     "name": "stderr",
     "output_type": "stream",
     "text": [
      "\n"
     ]
    },
    {
     "data": {
      "text/plain": [
       "{'PROD_URL': ['SD_HGHFVPFD',\n",
       "  'SD_1P41Z782',\n",
       "  'SD_9PYZAHHE',\n",
       "  'SD_7NQ9151J',\n",
       "  'SD_B8X3C1MX',\n",
       "  'SD_DK0KRWK8',\n",
       "  'SD_NMVV8A1Y',\n",
       "  'SD_YNSSAPHE',\n",
       "  'SD_W0V965XZ',\n",
       "  'SD_R0EPRSGS',\n",
       "  'SD_RM8AFW0R',\n",
       "  'SD_DZ4GPQX6',\n",
       "  'SD_ZFGDG5YS',\n",
       "  'SD_0TYVY1TW',\n",
       "  'SD_VTTSHWV4',\n",
       "  'SD_DZTB5HRR',\n",
       "  'SD_YGVA0E1C',\n",
       "  'SD_6FPYJQBR',\n",
       "  'SD_8Y99QZJJ',\n",
       "  'SD_P445ACHV',\n",
       "  'SD_46RR9ZR6',\n",
       "  'SD_PET7Q6F2',\n",
       "  'SD_46SK55A3',\n",
       "  'SD_ZXJFFMEF',\n",
       "  'SD_PREASA7S',\n",
       "  'SD_BHJXBDQK',\n",
       "  'SD_Z6MWD3H0',\n",
       "  'SD_JWS3V24D',\n",
       "  'SD_FFVQ3T38',\n",
       "  'SD_DYPMEHHF',\n",
       "  'SD_T8VSYRSG',\n",
       "  'SD_FYCR78W0',\n",
       "  'SD_Y6VRG6MD',\n",
       "  'SD_65064P2Z'],\n",
       " 'QA_URL': ['SD_Z6MWD3H0',\n",
       "  'SD_BHJXBDQK',\n",
       "  'SD_DYPMEHHF',\n",
       "  'SD_Y6VRG6MD',\n",
       "  'SD_65064P2Z',\n",
       "  'SD_T8VSYRSG',\n",
       "  'SD_FYCR78W0',\n",
       "  'SD_PREASA7S',\n",
       "  'SD_FFVQ3T38',\n",
       "  'SD_JWS3V24D',\n",
       "  'SD_ZXJFFMEF',\n",
       "  'SD_46SK55A3',\n",
       "  'SD_PET7Q6F2',\n",
       "  'SD_46RR9ZR6',\n",
       "  'SD_P445ACHV',\n",
       "  'SD_8Y99QZJJ',\n",
       "  'SD_6FPYJQBR',\n",
       "  'SD_YGVA0E1C',\n",
       "  'SD_DZTB5HRR',\n",
       "  'SD_VTTSHWV4',\n",
       "  'SD_0TYVY1TW',\n",
       "  'SD_ZFGDG5YS',\n",
       "  'SD_DZ4GPQX6',\n",
       "  'SD_RM8AFW0R',\n",
       "  'SD_R0EPRSGS',\n",
       "  'SD_W0V965XZ',\n",
       "  'SD_YNSSAPHE',\n",
       "  'SD_NMVV8A1Y',\n",
       "  'SD_DK0KRWK8',\n",
       "  'SD_B8X3C1MX',\n",
       "  'SD_7NQ9151J',\n",
       "  'SD_9PYZAHHE',\n",
       "  'SD_1P41Z782',\n",
       "  'SD_HGHFVPFD'],\n",
       " 'DEV_URL': []}"
      ]
     },
     "execution_count": 2,
     "metadata": {},
     "output_type": "execute_result"
    }
   ],
   "source": [
    "import requests\n",
    "\n",
    "def get_studies(pirate: Pirate):\n",
    "    studies = []\n",
    "    try:\n",
    "        studies_df = pirate.steal_bundles_to_dataframe(\n",
    "            resource_type='ResearchStudy',\n",
    "            fhir_paths=[\n",
    "                ('study_ids','meta.tag[0].code'),\n",
    "            ]\n",
    "        )\n",
    "        if isinstance(studies_df,pd.DataFrame) and 'study_ids' in studies_df.columns:\n",
    "            studies = studies_df['study_ids'].to_list()\n",
    "    except (requests.exceptions.HTTPError) as e:\n",
    "        print(e.response)\n",
    "\n",
    "    return studies\n",
    "\n",
    "endpoint_studies = {\n",
    "    label : get_studies(pirate)\n",
    "    for label, pirate in ship.items()\n",
    "}\n",
    "\n",
    "endpoint_studies"
   ]
  },
  {
   "cell_type": "markdown",
   "metadata": {},
   "source": [
    "## Check Stuides in Pyrate Booty"
   ]
  },
  {
   "cell_type": "code",
   "execution_count": 16,
   "metadata": {},
   "outputs": [
    {
     "name": "stderr",
     "output_type": "stream",
     "text": [
      "Query & Build DF (ResearchStudy): 100%|██████████| 1/1 [00:00<00:00, 131.13it/s]\n"
     ]
    },
    {
     "data": {
      "text/html": [
       "<div>\n",
       "<style scoped>\n",
       "    .dataframe tbody tr th:only-of-type {\n",
       "        vertical-align: middle;\n",
       "    }\n",
       "\n",
       "    .dataframe tbody tr th {\n",
       "        vertical-align: top;\n",
       "    }\n",
       "\n",
       "    .dataframe thead th {\n",
       "        text-align: right;\n",
       "    }\n",
       "</style>\n",
       "<table border=\"1\" class=\"dataframe\">\n",
       "  <thead>\n",
       "    <tr style=\"text-align: right;\">\n",
       "      <th></th>\n",
       "      <th>kf_id</th>\n",
       "      <th>program</th>\n",
       "      <th>name</th>\n",
       "      <th>short_name</th>\n",
       "    </tr>\n",
       "  </thead>\n",
       "  <tbody>\n",
       "    <tr>\n",
       "      <th>0</th>\n",
       "      <td>SD_HGHFVPFD</td>\n",
       "      <td>Kids First</td>\n",
       "      <td>Common Fund (CF) Genotype-Tissue Expression Pr...</td>\n",
       "      <td>KF-GTEX</td>\n",
       "    </tr>\n",
       "    <tr>\n",
       "      <th>1</th>\n",
       "      <td>SD_1P41Z782</td>\n",
       "      <td>ICR</td>\n",
       "      <td>OpenDIPG: ICR London</td>\n",
       "      <td>ICR-DIPG</td>\n",
       "    </tr>\n",
       "    <tr>\n",
       "      <th>2</th>\n",
       "      <td>SD_9PYZAHHE</td>\n",
       "      <td>Kids First</td>\n",
       "      <td>Genomic Studies of Orofacial Cleft Birth Defects</td>\n",
       "      <td>KF-OCEA</td>\n",
       "    </tr>\n",
       "    <tr>\n",
       "      <th>3</th>\n",
       "      <td>SD_7NQ9151J</td>\n",
       "      <td>Kids First</td>\n",
       "      <td>Genome-wide Sequencing to Identify the Genes R...</td>\n",
       "      <td>KF-ED</td>\n",
       "    </tr>\n",
       "    <tr>\n",
       "      <th>4</th>\n",
       "      <td>SD_B8X3C1MX</td>\n",
       "      <td>Kids First</td>\n",
       "      <td>Kids First: Craniofacial Microsomia: Genetic C...</td>\n",
       "      <td>KF-CM</td>\n",
       "    </tr>\n",
       "    <tr>\n",
       "      <th>5</th>\n",
       "      <td>SD_DK0KRWK8</td>\n",
       "      <td>Kids First</td>\n",
       "      <td>Whole Genome Sequencing of African and Asian O...</td>\n",
       "      <td>KF-OFCAA</td>\n",
       "    </tr>\n",
       "    <tr>\n",
       "      <th>6</th>\n",
       "      <td>SD_NMVV8A1Y</td>\n",
       "      <td>Kids First</td>\n",
       "      <td>Kids First: Genetics of Structural Defects of ...</td>\n",
       "      <td>KF-KUT</td>\n",
       "    </tr>\n",
       "    <tr>\n",
       "      <th>7</th>\n",
       "      <td>SD_YNSSAPHE</td>\n",
       "      <td>TARGET</td>\n",
       "      <td>TARGET: Neuroblastoma (NBL)</td>\n",
       "      <td>TARGET-NB</td>\n",
       "    </tr>\n",
       "    <tr>\n",
       "      <th>8</th>\n",
       "      <td>SD_W0V965XZ</td>\n",
       "      <td>Kids First</td>\n",
       "      <td>Genomic Analysis of Familial Leukemia</td>\n",
       "      <td>KF-FALL</td>\n",
       "    </tr>\n",
       "    <tr>\n",
       "      <th>9</th>\n",
       "      <td>SD_R0EPRSGS</td>\n",
       "      <td>Kids First</td>\n",
       "      <td>Kids First: Genomics of Orofacial Cleft Birth ...</td>\n",
       "      <td>KF-OFCLA</td>\n",
       "    </tr>\n",
       "  </tbody>\n",
       "</table>\n",
       "</div>"
      ],
      "text/plain": [
       "         kf_id     program                                               name short_name\n",
       "0  SD_HGHFVPFD  Kids First  Common Fund (CF) Genotype-Tissue Expression Pr...    KF-GTEX\n",
       "1  SD_1P41Z782         ICR                               OpenDIPG: ICR London   ICR-DIPG\n",
       "2  SD_9PYZAHHE  Kids First   Genomic Studies of Orofacial Cleft Birth Defects    KF-OCEA\n",
       "3  SD_7NQ9151J  Kids First  Genome-wide Sequencing to Identify the Genes R...      KF-ED\n",
       "4  SD_B8X3C1MX  Kids First  Kids First: Craniofacial Microsomia: Genetic C...      KF-CM\n",
       "5  SD_DK0KRWK8  Kids First  Whole Genome Sequencing of African and Asian O...   KF-OFCAA\n",
       "6  SD_NMVV8A1Y  Kids First  Kids First: Genetics of Structural Defects of ...     KF-KUT\n",
       "7  SD_YNSSAPHE      TARGET                        TARGET: Neuroblastoma (NBL)  TARGET-NB\n",
       "8  SD_W0V965XZ  Kids First              Genomic Analysis of Familial Leukemia    KF-FALL\n",
       "9  SD_R0EPRSGS  Kids First  Kids First: Genomics of Orofacial Cleft Birth ...   KF-OFCLA"
      ]
     },
     "execution_count": 16,
     "metadata": {},
     "output_type": "execute_result"
    }
   ],
   "source": [
    "metadata = ship['PROD_URL'].steal_bundles_to_dataframe(\n",
    "    resource_type='ResearchStudy',\n",
    "    fhir_paths=[\n",
    "        ('kf_id','meta.tag[0].code'),\n",
    "        ('program','keyword[0].text'),\n",
    "        ('name','title'),\n",
    "        ('short_name','keyword[1].coding[0].code')\n",
    "    ]\n",
    ")\n",
    "\n",
    "# metadata.sort_values(by='study_type',ignore_index=True,inplace=True)\n",
    "metadata.head(10)"
   ]
  },
  {
   "cell_type": "markdown",
   "metadata": {},
   "source": [
    "## Noteworthy results\n",
    "1. Creation time not identified\n",
    "2. No column identified for age_at_enrollment\n",
    "\n",
    "# KF FHIR Patient &rarr; C2M2 Subject\n",
    "| C2M2 Field | FHIR Field |\n",
    "| ---------- | ---------- |\n",
    "| local_id   | Patient.identifier[].value |\n",
    "| project_local_id | Patient.meta_tag[].code |\n",
    "| sex | Patient.gender |\n",
    "| ethnicity | Patient.extension_1_extension_0_valueString |\n",
    " \n"
   ]
  },
  {
   "cell_type": "code",
   "execution_count": 4,
   "metadata": {},
   "outputs": [
    {
     "name": "stderr",
     "output_type": "stream",
     "text": [
      "Query & Build DF (Patient): 645it [01:36,  6.68it/s]\n"
     ]
    },
    {
     "data": {
      "text/html": [
       "<div>\n",
       "<style scoped>\n",
       "    .dataframe tbody tr th:only-of-type {\n",
       "        vertical-align: middle;\n",
       "    }\n",
       "\n",
       "    .dataframe tbody tr th {\n",
       "        vertical-align: top;\n",
       "    }\n",
       "\n",
       "    .dataframe thead th {\n",
       "        text-align: right;\n",
       "    }\n",
       "</style>\n",
       "<table border=\"1\" class=\"dataframe\">\n",
       "  <thead>\n",
       "    <tr style=\"text-align: right;\">\n",
       "      <th></th>\n",
       "      <th>kf_id</th>\n",
       "      <th>study_id</th>\n",
       "      <th>sex</th>\n",
       "      <th>ethnicity</th>\n",
       "    </tr>\n",
       "  </thead>\n",
       "  <tbody>\n",
       "    <tr>\n",
       "      <th>0</th>\n",
       "      <td>PT_TMQWP2F8</td>\n",
       "      <td>SD_65064P2Z</td>\n",
       "      <td>female</td>\n",
       "      <td>Not Reported</td>\n",
       "    </tr>\n",
       "    <tr>\n",
       "      <th>1</th>\n",
       "      <td>PT_ESANSF5N</td>\n",
       "      <td>SD_65064P2Z</td>\n",
       "      <td>female</td>\n",
       "      <td>Not Hispanic or Latino</td>\n",
       "    </tr>\n",
       "    <tr>\n",
       "      <th>2</th>\n",
       "      <td>PT_QV8RJTJY</td>\n",
       "      <td>SD_65064P2Z</td>\n",
       "      <td>female</td>\n",
       "      <td>Not Hispanic or Latino</td>\n",
       "    </tr>\n",
       "    <tr>\n",
       "      <th>3</th>\n",
       "      <td>PT_FV1C37JJ</td>\n",
       "      <td>SD_65064P2Z</td>\n",
       "      <td>male</td>\n",
       "      <td>Not Hispanic or Latino</td>\n",
       "    </tr>\n",
       "    <tr>\n",
       "      <th>4</th>\n",
       "      <td>PT_F2YJRHS0</td>\n",
       "      <td>SD_65064P2Z</td>\n",
       "      <td>female</td>\n",
       "      <td>Not Hispanic or Latino</td>\n",
       "    </tr>\n",
       "  </tbody>\n",
       "</table>\n",
       "</div>"
      ],
      "text/plain": [
       "         kf_id     study_id     sex               ethnicity\n",
       "0  PT_TMQWP2F8  SD_65064P2Z  female            Not Reported\n",
       "1  PT_ESANSF5N  SD_65064P2Z  female  Not Hispanic or Latino\n",
       "2  PT_QV8RJTJY  SD_65064P2Z  female  Not Hispanic or Latino\n",
       "3  PT_FV1C37JJ  SD_65064P2Z    male  Not Hispanic or Latino\n",
       "4  PT_F2YJRHS0  SD_65064P2Z  female  Not Hispanic or Latino"
      ]
     },
     "execution_count": 4,
     "metadata": {},
     "output_type": "execute_result"
    }
   ],
   "source": [
    "patient_df = ship['PROD_URL'].steal_bundles_to_dataframe(\n",
    "    resource_type=\"Patient\",\n",
    "    fhir_paths=[\n",
    "        (\"kf_id\",\"identifier[0].value\"),\n",
    "        (\"study_id\",\"meta.tag[0].code\"),\n",
    "        (\"sex\",\"gender\"),\n",
    "        (\"ethnicity\",\"extension[1].extension[0].valueString\"),\n",
    "    ]\n",
    ")\n",
    "\n",
    "patient_df.head()"
   ]
  }
 ],
 "metadata": {
  "kernelspec": {
   "display_name": "venv",
   "language": "python",
   "name": "python3"
  },
  "language_info": {
   "codemirror_mode": {
    "name": "ipython",
    "version": 3
   },
   "file_extension": ".py",
   "mimetype": "text/x-python",
   "name": "python",
   "nbconvert_exporter": "python",
   "pygments_lexer": "ipython3",
   "version": "3.8.10"
  },
  "orig_nbformat": 4
 },
 "nbformat": 4,
 "nbformat_minor": 2
}
