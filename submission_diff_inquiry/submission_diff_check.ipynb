{
 "cells": [
  {
   "cell_type": "markdown",
   "metadata": {},
   "source": [
    "# Quarterly Submission Overview Checks\n",
    "\n",
    "This notebook will be used for comparing and contrasting quarterly cfde submissions.\n",
    "\n",
    "The general practice will be to create a directory using the name of the quarter in the directory this notebook exists in, and put that directory name in the first code cell that sets **DB1** and **DB2**. The first db being the oldest quarter and the second db being the newest quarter."
   ]
  },
  {
   "cell_type": "code",
   "execution_count": null,
   "metadata": {},
   "outputs": [],
   "source": [
    "import sqlite3\n",
    "import pandas as pd\n",
    "\n",
    "DB1, DB2 = 'Y4Q2_C2M2', 'Y4Q1_C2M2'"
   ]
  },
  {
   "cell_type": "code",
   "execution_count": null,
   "metadata": {},
   "outputs": [],
   "source": [
    "db1_conn = sqlite3.connect(f'{DB1}.db')\n",
    "\n",
    "query = f\"\"\"\n",
    "select project_local_id, count(local_id) as {DB1}_subject_count\n",
    "from subject\n",
    "group by project_local_id\n",
    "\"\"\"\n",
    "db1_subject_df = pd.read_sql_query(query,db1_conn)"
   ]
  },
  {
   "cell_type": "code",
   "execution_count": null,
   "metadata": {},
   "outputs": [],
   "source": [
    "db2_conn = sqlite3.connect(f'{DB2}.db')\n",
    "\n",
    "query = f\"\"\"\n",
    "select project_local_id, count(local_id) as {DB2}_subject_count\n",
    "from subject\n",
    "group by project_local_id\n",
    "\"\"\"\n",
    "db2_subject_df = pd.read_sql_query(query,db2_conn)"
   ]
  },
  {
   "cell_type": "code",
   "execution_count": null,
   "metadata": {},
   "outputs": [],
   "source": [
    "combined_quarters_df = db1_subject_df.merge(db2_subject_df,\n",
    "                                   how='inner',\n",
    "                                   on='project_local_id') \\\n",
    "                            .sort_values(by='project_local_id')"
   ]
  },
  {
   "cell_type": "code",
   "execution_count": null,
   "metadata": {},
   "outputs": [],
   "source": [
    "query = f\"\"\"\n",
    "select project_local_id, count(distinct(local_id)) as {DB1}_biosample_count\n",
    "from biosample\n",
    "group by project_local_id\n",
    "\"\"\"\n",
    "db1_biosample_df = pd.read_sql_query(query,db1_conn)"
   ]
  },
  {
   "cell_type": "code",
   "execution_count": null,
   "metadata": {},
   "outputs": [],
   "source": [
    "query = f\"\"\"\n",
    "select project_local_id, count(distinct(local_id)) as {DB2}_biosample_count\n",
    "from biosample\n",
    "group by project_local_id\n",
    "\"\"\"\n",
    "db2_biosample_df = pd.read_sql_query(query,db2_conn)"
   ]
  },
  {
   "cell_type": "code",
   "execution_count": null,
   "metadata": {},
   "outputs": [],
   "source": [
    "combined_quarters_df = combined_quarters_df.merge(db1_biosample_df,\n",
    "                                                  how='inner',\n",
    "                                                  on='project_local_id') \\\n",
    "                                            .merge(db2_biosample_df,\n",
    "                                                   how='inner',\n",
    "                                                   on='project_local_id')\n"
   ]
  },
  {
   "cell_type": "code",
   "execution_count": null,
   "metadata": {},
   "outputs": [],
   "source": [
    "query = f\"\"\"\n",
    "select project_local_id, count(local_id) as {DB1}_file_count\n",
    "from file\n",
    "group by project_local_id\n",
    "\"\"\"\n",
    "db1_file_df = pd.read_sql_query(query,db1_conn)"
   ]
  },
  {
   "cell_type": "code",
   "execution_count": null,
   "metadata": {},
   "outputs": [],
   "source": [
    "query = f\"\"\"\n",
    "select project_local_id, count(local_id) as {DB2}_file_count\n",
    "from file\n",
    "group by project_local_id\n",
    "\"\"\"\n",
    "db2_file_df = pd.read_sql_query(query,db2_conn)\n"
   ]
  },
  {
   "cell_type": "code",
   "execution_count": null,
   "metadata": {},
   "outputs": [],
   "source": [
    "combined_quarters_df = combined_quarters_df.merge(db1_file_df,\n",
    "                                                  how='inner',\n",
    "                                                  on='project_local_id') \\\n",
    "                                            .merge(db2_file_df,\n",
    "                                                   how='inner',\n",
    "                                                   on='project_local_id')"
   ]
  },
  {
   "cell_type": "code",
   "execution_count": null,
   "metadata": {},
   "outputs": [],
   "source": [
    "query = f\"\"\"\n",
    "select project_local_id, count(biosample_local_id) as {DB1}_biosample_disease_count\n",
    "from biosample_disease bd\n",
    "join biosample b on b.local_id = bd.biosample_local_id\n",
    "group by project_local_id\n",
    "\"\"\"\n",
    "db1_biosample_disease_df = pd.read_sql_query(query,db1_conn)"
   ]
  },
  {
   "cell_type": "code",
   "execution_count": null,
   "metadata": {},
   "outputs": [],
   "source": [
    "query = f\"\"\"\n",
    "select project_local_id, count(biosample_local_id) as {DB2}_biosample_disease_count\n",
    "from biosample_disease bd\n",
    "join biosample b on b.local_id = bd.biosample_local_id\n",
    "group by project_local_id\n",
    "\"\"\"\n",
    "db2_biosample_disease_df = pd.read_sql_query(query,db2_conn)"
   ]
  },
  {
   "cell_type": "code",
   "execution_count": null,
   "metadata": {},
   "outputs": [],
   "source": [
    "combined_quarters_df = combined_quarters_df.merge(db1_biosample_disease_df,\n",
    "                                                  how='inner',\n",
    "                                                  on='project_local_id') \\\n",
    "                                            .merge(db2_biosample_disease_df,\n",
    "                                                   how='inner',\n",
    "                                                   on='project_local_id')"
   ]
  },
  {
   "cell_type": "code",
   "execution_count": null,
   "metadata": {},
   "outputs": [],
   "source": [
    "combined_quarters_df['subject_count_change'] = combined_quarters_df.apply(lambda row: row[f'{DB2}_subject_count'] - row[f'{DB1}_subject_count'],axis=1)\n",
    "combined_quarters_df['biosample_count_change'] = combined_quarters_df.apply(lambda row: row[f'{DB2}_biosample_count'] - row[f'{DB1}_biosample_count'],axis=1)\n",
    "combined_quarters_df['file_count_change'] = combined_quarters_df.apply(lambda row: row[f'{DB2}_file_count'] - row[f'{DB1}_file_count'],axis=1)\n",
    "combined_quarters_df['biosample_disease_count_change'] = combined_quarters_df.apply(lambda row: row[f'{DB2}_biosample_disease_count'] - row[f'{DB1}_biosample_disease_count'],axis=1)\n",
    "\n",
    "combined_quarters_df"
   ]
  },
  {
   "cell_type": "code",
   "execution_count": null,
   "metadata": {},
   "outputs": [],
   "source": [
    "change_columns = [col for col in combined_quarters_df.columns if col.endswith('change')]\n",
    "studies_with_delta = combined_quarters_df.loc[(combined_quarters_df[change_columns] != 0).any(axis=1)]"
   ]
  },
  {
   "cell_type": "code",
   "execution_count": null,
   "metadata": {},
   "outputs": [],
   "source": [
    "f\"Number of studies: {studies_with_delta.shape[0]}\""
   ]
  },
  {
   "cell_type": "code",
   "execution_count": null,
   "metadata": {},
   "outputs": [],
   "source": [
    "study_name_df = pd.read_sql_query(\"select * from project\",db1_conn)\n",
    "study_name_df = study_name_df[[\"local_id\",\"name\"]]\n",
    "\n",
    "studies_with_delta = studies_with_delta.merge(study_name_df,how=\"left\",left_on=\"project_local_id\",right_on=\"local_id\")\n",
    "change_columns.insert(0,\"local_id\")\n",
    "change_columns.insert(1,\"name\")\n",
    "\n",
    "from IPython.display import display\n",
    "display(studies_with_delta[change_columns].style.hide_index())"
   ]
  }
 ],
 "metadata": {
  "kernelspec": {
   "display_name": "venv",
   "language": "python",
   "name": "python3"
  },
  "language_info": {
   "codemirror_mode": {
    "name": "ipython",
    "version": 3
   },
   "file_extension": ".py",
   "mimetype": "text/x-python",
   "name": "python",
   "nbconvert_exporter": "python",
   "pygments_lexer": "ipython3",
   "version": "3.9.6"
  },
  "orig_nbformat": 4
 },
 "nbformat": 4,
 "nbformat_minor": 2
}
